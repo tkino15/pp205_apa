{
 "cells": [
  {
   "cell_type": "code",
   "execution_count": 1,
   "metadata": {},
   "outputs": [],
   "source": [
    "from pathlib import Path\n",
    "\n",
    "import numpy as np\n",
    "import pandas as pd\n",
    "import geopandas as gpd\n",
    "import matplotlib.pyplot as plt\n",
    "import seaborn as sns\n",
    "\n",
    "from tqdm.notebook import tqdm\n",
    "\n",
    "pd.options.display.max_rows = 500"
   ]
  },
  {
   "cell_type": "markdown",
   "metadata": {},
   "source": [
    "# combine hazard maps"
   ]
  },
  {
   "cell_type": "code",
   "execution_count": 2,
   "metadata": {},
   "outputs": [
    {
     "data": {
      "application/vnd.jupyter.widget-view+json": {
       "model_id": "0f650fe320d14ea2978ae02081eadadb",
       "version_major": 2,
       "version_minor": 0
      },
      "text/plain": [
       "HBox(children=(FloatProgress(value=0.0, max=47.0), HTML(value='')))"
      ]
     },
     "metadata": {},
     "output_type": "display_data"
    },
    {
     "name": "stdout",
     "output_type": "stream",
     "text": [
      "\n"
     ]
    }
   ],
   "source": [
    "maps = []\n",
    "\n",
    "for i in tqdm(range(1, 48)):\n",
    "    dir_path = Path('../data/input/hazard_maps/A31-12_{:0>2}_GML'.format(i))\n",
    "    paths = list(dir_path.glob('**/A31-12_{:0>2}.shp'.format(i)))\n",
    "    assert len(paths) == 1\n",
    "    map_gdf = gpd.read_file(paths[0], encoding='shift-jis')\n",
    "    maps.append(map_gdf)\n",
    "\n",
    "crs = maps[0].crs"
   ]
  },
  {
   "cell_type": "code",
   "execution_count": 3,
   "metadata": {},
   "outputs": [],
   "source": [
    "maps_gdf = gpd.GeoDataFrame(pd.concat(maps, axis=0))\n",
    "maps_gdf.crs = crs"
   ]
  },
  {
   "cell_type": "code",
   "execution_count": 4,
   "metadata": {},
   "outputs": [],
   "source": [
    "depth_map = {\n",
    "    11:11, 12:12, 13:13, 14:14, 15:15,\n",
    "    21:11, 22:12, 23:13, 24:14, 25:14, 26:14, 27:15 \n",
    "}\n",
    "\n",
    "new_cols = [\n",
    "    'water_depth',\n",
    "    'area_code',\n",
    "    'author',\n",
    "    'publish_date',\n",
    "    'publish_doc',\n",
    "    'detail_file_id',\n",
    "    'geometry'\n",
    "]"
   ]
  },
  {
   "cell_type": "code",
   "execution_count": 5,
   "metadata": {},
   "outputs": [
    {
     "name": "stdout",
     "output_type": "stream",
     "text": [
      "(1403452, 8)\n"
     ]
    },
    {
     "data": {
      "text/html": [
       "<div>\n",
       "<style scoped>\n",
       "    .dataframe tbody tr th:only-of-type {\n",
       "        vertical-align: middle;\n",
       "    }\n",
       "\n",
       "    .dataframe tbody tr th {\n",
       "        vertical-align: top;\n",
       "    }\n",
       "\n",
       "    .dataframe thead th {\n",
       "        text-align: right;\n",
       "    }\n",
       "</style>\n",
       "<table border=\"1\" class=\"dataframe\">\n",
       "  <thead>\n",
       "    <tr style=\"text-align: right;\">\n",
       "      <th></th>\n",
       "      <th>water_depth</th>\n",
       "      <th>area_code</th>\n",
       "      <th>author</th>\n",
       "      <th>publish_date</th>\n",
       "      <th>publish_doc</th>\n",
       "      <th>detail_file_id</th>\n",
       "      <th>geometry</th>\n",
       "      <th>water_depth_scaled</th>\n",
       "    </tr>\n",
       "  </thead>\n",
       "  <tbody>\n",
       "    <tr>\n",
       "      <th>0</th>\n",
       "      <td>11</td>\n",
       "      <td>1</td>\n",
       "      <td>北海道</td>\n",
       "      <td>平成22年3月9日</td>\n",
       "      <td>河川第1572号</td>\n",
       "      <td>01027</td>\n",
       "      <td>POLYGON ((141.99667 43.47581, 141.99672 43.475...</td>\n",
       "      <td>11</td>\n",
       "    </tr>\n",
       "    <tr>\n",
       "      <th>1</th>\n",
       "      <td>14</td>\n",
       "      <td>1</td>\n",
       "      <td>北海道</td>\n",
       "      <td>平成22年3月9日</td>\n",
       "      <td>河川第1572号</td>\n",
       "      <td>01027</td>\n",
       "      <td>POLYGON ((141.99449 43.47630, 141.99444 43.476...</td>\n",
       "      <td>14</td>\n",
       "    </tr>\n",
       "    <tr>\n",
       "      <th>2</th>\n",
       "      <td>13</td>\n",
       "      <td>1</td>\n",
       "      <td>北海道</td>\n",
       "      <td>平成22年3月9日</td>\n",
       "      <td>河川第1572号</td>\n",
       "      <td>01027</td>\n",
       "      <td>POLYGON ((141.99538 43.47626, 141.99532 43.476...</td>\n",
       "      <td>13</td>\n",
       "    </tr>\n",
       "    <tr>\n",
       "      <th>3</th>\n",
       "      <td>12</td>\n",
       "      <td>1</td>\n",
       "      <td>北海道</td>\n",
       "      <td>平成22年3月9日</td>\n",
       "      <td>河川第1572号</td>\n",
       "      <td>01027</td>\n",
       "      <td>POLYGON ((141.99593 43.47757, 141.99591 43.477...</td>\n",
       "      <td>12</td>\n",
       "    </tr>\n",
       "    <tr>\n",
       "      <th>4</th>\n",
       "      <td>13</td>\n",
       "      <td>1</td>\n",
       "      <td>北海道</td>\n",
       "      <td>平成22年3月9日</td>\n",
       "      <td>河川第1572号</td>\n",
       "      <td>01027</td>\n",
       "      <td>POLYGON ((141.99303 43.47871, 141.99299 43.478...</td>\n",
       "      <td>13</td>\n",
       "    </tr>\n",
       "  </tbody>\n",
       "</table>\n",
       "</div>"
      ],
      "text/plain": [
       "   water_depth  area_code author publish_date publish_doc detail_file_id  \\\n",
       "0           11          1    北海道    平成22年3月9日    河川第1572号          01027   \n",
       "1           14          1    北海道    平成22年3月9日    河川第1572号          01027   \n",
       "2           13          1    北海道    平成22年3月9日    河川第1572号          01027   \n",
       "3           12          1    北海道    平成22年3月9日    河川第1572号          01027   \n",
       "4           13          1    北海道    平成22年3月9日    河川第1572号          01027   \n",
       "\n",
       "                                            geometry  water_depth_scaled  \n",
       "0  POLYGON ((141.99667 43.47581, 141.99672 43.475...                  11  \n",
       "1  POLYGON ((141.99449 43.47630, 141.99444 43.476...                  14  \n",
       "2  POLYGON ((141.99538 43.47626, 141.99532 43.476...                  13  \n",
       "3  POLYGON ((141.99593 43.47757, 141.99591 43.477...                  12  \n",
       "4  POLYGON ((141.99303 43.47871, 141.99299 43.478...                  13  "
      ]
     },
     "execution_count": 5,
     "metadata": {},
     "output_type": "execute_result"
    }
   ],
   "source": [
    "maps_gdf.columns = new_cols\n",
    "maps_gdf['water_depth_scaled'] = maps_gdf['water_depth'].map(depth_map)\n",
    "print(maps_gdf.shape)\n",
    "maps_gdf.head()"
   ]
  },
  {
   "cell_type": "code",
   "execution_count": 6,
   "metadata": {},
   "outputs": [
    {
     "name": "stdout",
     "output_type": "stream",
     "text": [
      "CPU times: user 8min 26s, sys: 7.75 s, total: 8min 34s\n",
      "Wall time: 8min 36s\n"
     ]
    }
   ],
   "source": [
    "%%time\n",
    "maps_gdf.to_file('../data/input/hazard_maps/hazard_maps.geojson', driver='GeoJSON')"
   ]
  },
  {
   "cell_type": "markdown",
   "metadata": {},
   "source": [
    "# convert timeseries"
   ]
  },
  {
   "cell_type": "code",
   "execution_count": 7,
   "metadata": {},
   "outputs": [
    {
     "name": "stdout",
     "output_type": "stream",
     "text": [
      "CPU times: user 3min 41s, sys: 5.67 s, total: 3min 47s\n",
      "Wall time: 3min 48s\n"
     ]
    }
   ],
   "source": [
    "%%time\n",
    "maps_gdf = gpd.read_file('../data/input/hazard_maps/hazard_maps.geojson')"
   ]
  },
  {
   "cell_type": "code",
   "execution_count": 9,
   "metadata": {},
   "outputs": [
    {
     "data": {
      "text/plain": [
       "array(['平成22年3月9日', '平成21年10月2日', '平成22年3月30日',\n",
       "       '安平川水系安平川、勇払川\\u3000平成17年7月21日', '平成17年7月21日', '平成18年3月29日',\n",
       "       '気門別川水系気門別川\\u3000平成17年7月21日\\u3000長流川水系長流川\\u3000平成21年3月27日', '記載なし',\n",
       "       '平成19年1月29日（河川第1266号）',\n",
       "       '釧路川水系釧路川\\u3000平成22年3月30日\\u3000釧路川水系別保川\\u3000平成22年3月30日',\n",
       "       '平成21年6月23日', '平成20年7月14日', '厚沢部川水系厚沢部川、安野呂川、鶉川\\u3000平成17年7月21日',\n",
       "       '平成21年3月27日',\n",
       "       '斜里川水系斜里川\\u3000平成17年7月21日（河川第718号）\\u3000斜里川水系猿間川\\u3000平成19年1月29日（河川第1266号）',\n",
       "       '朱太川水系朱太川\\u3000平成20年5月8日', '平成17年7月1日', '平成22年3月20日', '平成16年7月2日',\n",
       "       '平成22年1月15日', '平成21年3月6日',\n",
       "       '静内川水系静内川・古川・真沼津川水系真沼津川\\u3000平成21年3月27日',\n",
       "       '久根別川水系久根別川\\u3000平成17年7月21日\\u3000大野川水系大野川\\u3000平成17年7月21日',\n",
       "       '茶路川水系茶路川\\u3000平成17年7月21日', '天野川水系天野川\\u3000平成17年7月21日',\n",
       "       '平成21年9月18日', '平成19年3月20日（河川第1524号）', '平成20年3月27日',\n",
       "       '頓別川水系頓別川\\u3000平成21年7月21日\\u3000頓別川水系兵知安川\\u3000平成22年3月30日',\n",
       "       '平成22年3月16日', '別途申請中', '平成21年3月24日', '平成20年9月\\u3000日',\n",
       "       '平成21年10月2日\\u3000', '標津川水系標津川\\u3000平成20年7月24日', '平成20年10月21日',\n",
       "       '北見幌別川水系北見幌別川\\u3000平成17年7月21日\\u3000北見幌別川オムロシュベツ川\\u3000平成22年3月30日',\n",
       "       '平成21年1月8日', '平成20年3月25日', '流渓川水系流渓川\\u3000平成20年8月21日',\n",
       "       '平成24年\\u30008月23日', '平成21年12月7日', '平成14年7月5日', '平成22年8月12日',\n",
       "       '平成14年3月29日\\u3000', '平成22年9月3日\\u3000', '平成21年7月17日',\n",
       "       '平成20年12月24日\\u3000', '平成22年3月31日\\u3000', '平成14年3月29日',\n",
       "       '平成14年1月31日', '平成22年9月2日', '平成21年6月11日', '平成22年1月28日',\n",
       "       '平成14年\\u30003月29日', '平成22年9月3日', '平成22年3月31日', '平成23年4月8日',\n",
       "       '平成13年7月31日', '平成19年5月7日', '平成21年4月30日', '平成19年1月22日（県報公示）',\n",
       "       '平成20年\\u3000月\\u3000日', '平成19年1月22日', '平成\\u3000年\\u3000月\\u3000日',\n",
       "       '平成20年8月8日', '平成19年8月10日', '平成20年6月30日', '平成18年\\u3000月\\u3000日',\n",
       "       '平成20年8月8日（県報公示）', '平成17年6月24日', '平成16年6月11日', '平成14年6月7日',\n",
       "       '平成22年\\u3000月\\u3000日', '平成13年1月30日', '平成13年11月30日', '平成20年6月20日',\n",
       "       '平成18年9月29日', '平成20年8月12日', '平成19年\\u3000月\\u3000日', '平成18年3月24日',\n",
       "       '平成17年\\u3000月\\u3000日', '平成22年3月\\u3000日', '平成14年6月28日', '平成21年6月5日',\n",
       "       '平成21年4月10日', '平成14年4月30日', '平成14年3月15日', '平成17年12月\\u3000日',\n",
       "       '平成21年8月14日', '平成20年10月31日', '平成20年4月18日', '平成18年6月30日',\n",
       "       '平成21年\\u3000月\\u3000日', '平成18年3月30日', '平成14年7月26日', '平成19年3月30日',\n",
       "       '平成21年3月31日', '平成23年3月29日', '平成16年6月1日',\n",
       "       '平成21年3月31日\\u3000平成22年3月30日', '平成18年7月7日', '平成22年9月9日',\n",
       "       '平成14年8月28日', '平成14年2月15日', '平成18年7月25日', '平成20年3月24日',\n",
       "       '平成21年3月23日', '平成17年7月7日（霞ヶ浦・北浦・鰐川・常陸利根川）\\u3000平成19年1月11日（横利根川）',\n",
       "       '平成17年3月31日', '平成14年6月28日（久慈川）平成18年7月6日（里川、山田川）', '平成20年7月31日',\n",
       "       '平成17年3月28日', '平成18年7月6日',\n",
       "       '平成17年3月31日（渡良瀬川・桐生川）\\u3000平成19年4月25日（秋山川、旗川、矢場川、多々良川）',\n",
       "       '平成17年7月7日', '平成18年6月23日', '平成19年5月25日', '平成18年3月28日',\n",
       "       '平成20年5月23日', '平成21年4月28日', '平成21年6月30日', '平成19年5月22日',\n",
       "       '平成20年2月5日', '平成18年6月2日',\n",
       "       '平成17年10月20日（烏川、鏑川、碓氷川）\\u3000平成19年1月11日（神流川）', '平成19年3月27日',\n",
       "       '小山川・福川\\u3000平成19年3月27日\\u3000女堀川\\u3000平成21年3月24日',\n",
       "       '新河岸川・柳瀬川\\u3000平成18年5月26日\\u3000黒目川\\u3000平成21年3月24日',\n",
       "       '中川・綾瀬川・元荒川\\u3000平成19年3月27日\\u3000新方川・大落古利根川\\u3000平成21年3月24日',\n",
       "       '平成17年7月8日', '平成18年2月15日', '平成\\u3000年\\u3000月',\n",
       "       '平成\\u3000\\u3000年\\u3000月\\u3000日', '平成18年7月14日', '平成19年4月25日',\n",
       "       '平成14年2月28日', '引地川：平成19年11月6日\\u3000蓼川：平成19年11月6日', '平成21年7月24日',\n",
       "       '平成19年5月29日',\n",
       "       '金目川：平成20年6月3日、鈴川：平成20年6月3日、渋田川：平成20年6月3日、歌川：平成20年6月3日、室川：平成20年6月3日、河内川：平成21年10月6日、大根川：平成21年10月6日',\n",
       "       '多摩川水系\\u3000三沢川\\u3000三沢川：平成19年11月6日', '平成21年1月9日', '平成20年6月3日',\n",
       "       '相模川水系小出川\\u3000平成18年8月11日\\u3000相模川水系千の川\\u3000平成21年10月6日',\n",
       "       '平成18年6月1日',\n",
       "       '多摩川水系\\u3000平瀬川\\u3000平瀬川：平成19年11月6日\\u3000多摩川水系\\u3000二ケ領本川\\u3000二ケ領本川：平成19年11月6日\\u3000多摩川水系\\u3000五反田川\\u3000五反田川：平成19年11月6日',\n",
       "       '平成14年8月30日', '平成19年6月27日', '平成19年6月22日', '平成18年11月27日',\n",
       "       '平成20年3月26日', '平成20年10月24日', '平成14年9月20日', '平成19年5月8日',\n",
       "       '平成18年6月27日', '平成19年3月13日', '平成18年6月27日\\u3000（作成年月\\u3000平成17年6月）',\n",
       "       '平成19年1月19日', '平成22年3月26日', '平成21年3月10日', '平成18年6月12日',\n",
       "       '平成19年1月11日', '平成14年5月24日', '平成20年5月27日', '平成21年6月18日',\n",
       "       '平成19年7月23日', '平成18年8月3日', '平成20年6月26日', '平成20年6月16日',\n",
       "       '平成20年6月\\u3000日', '平成19年1月16日', '平成15年3月7日', '平成17年11月1日',\n",
       "       '平成18年2月10日', '平成21年5月22日', '平成20年8月22日', '平成20年3月21日',\n",
       "       '平成15年9月2日', '平成17年9月30日', '平成23年\\u3000\\u3000月\\u3000\\u3000日',\n",
       "       '平成23年\\u3000月\\u3000日', '平成19年8月29日', '平成18年6月', '平成23年4月1日',\n",
       "       '平成22年4月2日', '平成21年4月1日', '平成22年3月', '平成15年3月、平成18年3月', '平成18年1月',\n",
       "       '平成18年3月', '平成21年\\u30007月10日',\n",
       "       '平成\\u3000年\\u3000月\\u3000日（黄瀬川・大場川）\\u3000平成\\u3000年\\u3000月\\u3000日（柿沢川）',\n",
       "       '平成20年\\u3000月\\u3000\\u3000日',\n",
       "       '平成14年3月15日（狩野川）\\u3000平成\\u3000年\\u3000月\\u3000日（黄瀬川・大場川）\\u3000平成\\u3000年\\u3000月\\u3000日（来光川・柿沢川）',\n",
       "       '平成15年3月20日', '平成21年7月10日', '平成20年6月1日', '平成21年6月1日', '平成23年6月1日',\n",
       "       '平成19年9月18日、平成20年7月15日', '平成19年12月14日', '平成23年2月22日', '平成20年7月15日',\n",
       "       '平成18年9月1日', '平成22年6月1日', '平成19年9月18日', '平成18年6月15日', '平成14年6月14日',\n",
       "       '平成19年6月8日', '平成21年6月24日', '平成18年8月25日', '平成22年（2010年）10月13日',\n",
       "       '平成20年7月18日', '平成16年5月12日', '平成17年5月30日', '平成17年5月3日',\n",
       "       '平成17年6月10日', '平成19年3月', '平成13年8月31日', '平成20年3月31日', '平成17年4月26日',\n",
       "       '平成16年3月30日（寝屋川，第二寝屋川，恩智川）、平成18年3月24日（平野川，平野川分水路，古川，楠根川）',\n",
       "       '平成15年4月25日', '平成\\u3000\\u3000年\\u3000\\u3000月\\u3000\\u3000日',\n",
       "       '平成14年\\u30003月15日', '平成20年5月30日', '平成20年5月30日\\u3000', '平成21年4月20日',\n",
       "       '平成19年11月9日', '平成18年9月5日', '平成13年12月20日', '平成19年5月30日',\n",
       "       '平成19年\\u30005月30日', '平成20年3月14日', '平成19年7月13日',\n",
       "       '平成14年\\u3000月\\u3000日', '記載なし\\u3000', '平成19年3月23日', '平成20年3月11日',\n",
       "       '平成22年6月22日', '平成21年8月11日', '平成21年3月11日', '平成20年11月14日',\n",
       "       '平成22年3月10日',\n",
       "       '洪水予報区間（本川）：平成14年3月15日\\u3000水位情報周知区間（境水道、中海、大橋川及び宍道湖）：平成18年5月26日',\n",
       "       '平成19年7月31日', '平成19年5月15日', '平成20年8月1日', '平成18年5月2日', '平成21年4月15日',\n",
       "       '平成20年6月27日', '平成18年6月9日', '平成19年5月18日', '平成22年3月24日',\n",
       "       '平成20年10月2日', '平成20年10月6日', '平成20年12月25日', '平成22年3月29日',\n",
       "       '平成21年3月30日', '平成21年6月22日', '平成13年10月31日',\n",
       "       '平成\\u3000\\u3000年\\u3000月\\u3000\\u3000日', '平成21年4月14日', '平成20年3月28日',\n",
       "       '平成22年3月23日', '平成15年6月3日', '平成19年11月27日', '平成18年10月27日',\n",
       "       '平成19年3月20日', '平成18年6月13日', '平成16年6月\\u3000日', '平成21年7月15日',\n",
       "       '平成18年8月11日', '平成19年9月25日', '平成22年5月25日', '平成20年7月29日',\n",
       "       '平成17年12月20日', '平成22年5月14日', '平成18年7月28日', '平成20年12月19日',\n",
       "       '平成18年4月25日', '平成19年12月21日', '平成19年8月31日', '平成19年3月16日',\n",
       "       '平成13年8月31日（平成21年3月19日変更）', '平成21年7月3日', '平成20年10月28日',\n",
       "       '平成15年11月28日', '平成20年8月4日', '平成21年3月17日',\n",
       "       '平成13年7月31日（平成21年12月18日変更）', '平成14年1月31日（平成21年3月19日改訂）',\n",
       "       '平成20年2月22日', '平成19年10月1日', '平成21年11月4日', '平成20年8月29日',\n",
       "       '平成22年5月28日', '平成22年3月1日', '平成20年12月15日', '平成21年7月31日',\n",
       "       '平成20年6月6日', '平成19年12月12日', '平成23年3月18日', '平成22年1月20日',\n",
       "       '平成22年6月30日', '平成23年6月6日', '平成15年\\u3000月\\u3000日', '平成14年5月31日',\n",
       "       '平成16年12月10日', '平成20年\\u3000月\\u3000日（水位情報周知区間）', '平成18年7月31日',\n",
       "       '平成20年12月5日', '平成19年9月19日', '平成20年9月9日', '平成20年\\u3000月',\n",
       "       '平成21年\\u3000月', '平成20年12月22日',\n",
       "       '平成14年3月29日（洪水予報区間）\\u3000平成20年12月22日（水位情報周知区間）', '平成14年11月29日',\n",
       "       '平成16年12月17日', '平成19年\\u3000月', '平成20年12月16日',\n",
       "       '平成18年7月31日（洪水予報区間）\\u3000平成18年7月31日（水位情報周知区間）', '平成19年6月21日',\n",
       "       '平成19年8月23日', '平成18年4月10日', '平成19年12月25日', '平成20年4月28日',\n",
       "       '平成19年7月12日', '平成19年7月30日', '平成19年8月6日', '平成19年11月12日',\n",
       "       '平成19年7月5日', '平成15年3月31日', '平成21年8月21日'], dtype=object)"
      ]
     },
     "execution_count": 9,
     "metadata": {},
     "output_type": "execute_result"
    }
   ],
   "source": [
    "maps_gdf['publish_date'].unique()"
   ]
  },
  {
   "cell_type": "code",
   "execution_count": 10,
   "metadata": {},
   "outputs": [],
   "source": [
    "maps_gdf['year_japan'] = maps_gdf['publish_date'].str.extract('((?<=平成).*?(?=年))', expand=False)\n",
    "maps_gdf['month'] = maps_gdf['publish_date'].str.extract('((?<=年).*?(?=月))', expand=False)\n",
    "maps_gdf['day'] = maps_gdf['publish_date'].str.extract('((?<=月).*?(?=日))', expand=False)"
   ]
  },
  {
   "cell_type": "code",
   "execution_count": 11,
   "metadata": {},
   "outputs": [
    {
     "name": "stdout",
     "output_type": "stream",
     "text": [
      "year_japan ['22' '21' '17' '18' nan '19' '20' '16' '24' '14' '23' '13' '\\u3000'\n",
      " '\\u3000\\u3000' '15']\n",
      "month ['3' '10' '7' nan '1' '6' '5' '9' '8' '\\u30008' '12' '\\u30003' '4'\n",
      " '\\u3000' '11' '2' '\\u3000\\u3000' '\\u30007' '（2010年）10' '\\u30005']\n",
      "day ['9' '2' '30' '21' '29' nan '23' '14' '27' '8' '1' '20' '15' '6' '18' '16'\n",
      " '24' '\\u3000' '25' '7' '5' '12' '3' '17' '31' '11' '28' '22' '10' '26'\n",
      " '13' '19' '\\u3000\\u3000' '4']\n"
     ]
    }
   ],
   "source": [
    "date_cols = ['year_japan', 'month', 'day']\n",
    "\n",
    "for col in date_cols:\n",
    "    print(col, maps_gdf[col].unique())"
   ]
  },
  {
   "cell_type": "code",
   "execution_count": 12,
   "metadata": {},
   "outputs": [],
   "source": [
    "maps_gdf['month'] = maps_gdf['month'].str.replace('\\（[^()]*\\）', '')"
   ]
  },
  {
   "cell_type": "code",
   "execution_count": 13,
   "metadata": {},
   "outputs": [],
   "source": [
    "for col in date_cols:\n",
    "    maps_gdf[col] = maps_gdf[col].str.replace('\\u3000', '')\n",
    "    maps_gdf[col] = maps_gdf[col].replace('', np.nan)\n",
    "    maps_gdf[col] = maps_gdf[col].astype(float)"
   ]
  },
  {
   "cell_type": "code",
   "execution_count": 14,
   "metadata": {},
   "outputs": [],
   "source": [
    "maps_gdf['year'] = maps_gdf['year_japan'] + 1988"
   ]
  },
  {
   "cell_type": "code",
   "execution_count": 15,
   "metadata": {},
   "outputs": [
    {
     "name": "stdout",
     "output_type": "stream",
     "text": [
      "year [2010. 2009. 2005. 2006.   nan 2007. 2008. 2004. 2012. 2002. 2011. 2001.\n",
      " 2003.]\n",
      "month [ 3. 10.  7. nan  1.  6.  5.  9.  8. 12.  4. 11.  2.]\n",
      "day [ 9.  2. 30. 21. 29. nan 23. 14. 27.  8.  1. 20. 15.  6. 18. 16. 24. 25.\n",
      "  7.  5. 12.  3. 17. 31. 11. 28. 22. 10. 26. 13. 19.  4.]\n"
     ]
    }
   ],
   "source": [
    "date_cols = ['year', 'month', 'day']\n",
    "\n",
    "for col in date_cols:\n",
    "    print(col, maps_gdf[col].unique())"
   ]
  },
  {
   "cell_type": "code",
   "execution_count": 16,
   "metadata": {},
   "outputs": [],
   "source": [
    "maps_gdf['publish_date_clean'] = pd.to_datetime(maps_gdf[date_cols])"
   ]
  },
  {
   "cell_type": "code",
   "execution_count": 17,
   "metadata": {},
   "outputs": [
    {
     "data": {
      "text/plain": [
       "<matplotlib.axes._subplots.AxesSubplot at 0x1bef51d50>"
      ]
     },
     "execution_count": 17,
     "metadata": {},
     "output_type": "execute_result"
    },
    {
     "data": {
      "image/png": "[encoded data removed]",
      "text/plain": [
       "<Figure size 432x288 with 1 Axes>"
      ]
     },
     "metadata": {
      "needs_background": "light"
     },
     "output_type": "display_data"
    }
   ],
   "source": [
    "maps_gdf.groupby(maps_gdf['publish_date_clean'].dt.year).count()['year'].plot(kind='bar')"
   ]
  },
  {
   "cell_type": "code",
   "execution_count": null,
   "metadata": {},
   "outputs": [],
   "source": [
    "print(maps_gdf.shape)\n",
    "maps_gdf.head()"
   ]
  },
  {
   "cell_type": "code",
   "execution_count": 18,
   "metadata": {},
   "outputs": [
    {
     "name": "stdout",
     "output_type": "stream",
     "text": [
      "CPU times: user 11min 3s, sys: 20.7 s, total: 11min 24s\n",
      "Wall time: 11min 46s\n"
     ]
    }
   ],
   "source": [
    "%%time\n",
    "maps_gdf.to_file('../data/input/hazard_maps/hazard_maps.geojson', driver='GeoJSON')"
   ]
  },
  {
   "cell_type": "code",
   "execution_count": null,
   "metadata": {},
   "outputs": [],
   "source": []
  }
 ],
 "metadata": {
  "kernelspec": {
   "display_name": "Python 3",
   "language": "python",
   "name": "python3"
  },
  "language_info": {
   "codemirror_mode": {
    "name": "ipython",
    "version": 3
   },
   "file_extension": ".py",
   "mimetype": "text/x-python",
   "name": "python",
   "nbconvert_exporter": "python",
   "pygments_lexer": "ipython3",
   "version": "3.7.6"
  },
  "toc": {
   "base_numbering": 1,
   "nav_menu": {},
   "number_sections": true,
   "sideBar": true,
   "skip_h1_title": false,
   "title_cell": "Table of Contents",
   "title_sidebar": "Contents",
   "toc_cell": false,
   "toc_position": {},
   "toc_section_display": true,
   "toc_window_display": false
  }
 },
 "nbformat": 4,
 "nbformat_minor": 4
}
